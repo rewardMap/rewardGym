{
 "cells": [
  {
   "cell_type": "markdown",
   "id": "edddd5c6",
   "metadata": {},
   "source": [
    "# rewardGym Tutorial\n",
    "\n",
    "This tutorial is supposed to be both a tutorial about the usage of the package,\n",
    "and a walkthrough of the functionality.\n",
    "\n",
    "In this tutorial, we will implement a classic multi-arm (two) bandit task, and\n",
    "provide simple rendering in pygame, so that humans can play the game as well."
   ]
  },
  {
   "cell_type": "markdown",
   "id": "535faffd",
   "metadata": {},
   "source": [
    "## The environment\n",
    "\n",
    "rewardGym uses a sub-class of the gymnasium gym.Env.\n",
    "\n",
    "The basic environment, requires a graph as input, and a dictionary, that relates\n",
    "identifies the reward nodes (i.e. the endpoints of the graph).\n",
    "\n",
    "In this implementation the graph has three nodes.\n",
    "\n",
    "The first node is the starting position, where the agent has to decide which\n",
    "of the two lotteries it wants to select.\n",
    "\n",
    "The second and third node are both endpoints of the graph, which are associated\n",
    "with a reward."
   ]
  },
  {
   "cell_type": "code",
   "execution_count": 1,
   "id": "86750feb",
   "metadata": {
    "execution": {
     "iopub.execute_input": "2025-08-20T12:21:59.993034Z",
     "iopub.status.busy": "2025-08-20T12:21:59.992758Z",
     "iopub.status.idle": "2025-08-20T12:22:00.618946Z",
     "shell.execute_reply": "2025-08-20T12:22:00.618272Z"
    }
   },
   "outputs": [
    {
     "name": "stdout",
     "output_type": "stream",
     "text": [
      "Registered: two-step\n",
      "Registered: posner\n",
      "Registered: risk-sensitive\n",
      "Registered: gonogo\n",
      "Registered: hcp\n",
      "Registered: mid\n"
     ]
    }
   ],
   "source": [
    "# noqa: E402\n",
    "# We first import the BaseEnv\n",
    "from rewardgym.environments import BaseEnv\n",
    "from rewardgym.reward_classes import BaseReward"
   ]
  },
  {
   "cell_type": "markdown",
   "id": "bc29d82e",
   "metadata": {},
   "source": [
    "The graph is created as a dictionary, where each node is a key and the possible\n",
    "positions in the graph the agent could move to.\n",
    "End nodes (empty lists) are automatically reward locations."
   ]
  },
  {
   "cell_type": "code",
   "execution_count": 2,
   "id": "bb726c7e",
   "metadata": {
    "execution": {
     "iopub.execute_input": "2025-08-20T12:22:00.620991Z",
     "iopub.status.busy": "2025-08-20T12:22:00.620735Z",
     "iopub.status.idle": "2025-08-20T12:22:00.623699Z",
     "shell.execute_reply": "2025-08-20T12:22:00.623109Z"
    }
   },
   "outputs": [],
   "source": [
    "env_graph = {0: [1, 2], 1: [], 2: []}\n",
    "# Side note, this is the same structure as used in the HCP task."
   ]
  },
  {
   "cell_type": "markdown",
   "id": "9974c4f5",
   "metadata": {},
   "source": [
    "We further need to define a reward the we will use. In this package the reward\n",
    "is defined by a callable class.\n",
    "The basic class used here, allows for probabilistic or static rewards.\n",
    "\n",
    "In the case of the two-armed bandit task here, we will use two simple probabilistic\n",
    "reward outcomes."
   ]
  },
  {
   "cell_type": "code",
   "execution_count": 3,
   "id": "a5f0d073",
   "metadata": {
    "execution": {
     "iopub.execute_input": "2025-08-20T12:22:00.625451Z",
     "iopub.status.busy": "2025-08-20T12:22:00.625235Z",
     "iopub.status.idle": "2025-08-20T12:22:00.629639Z",
     "shell.execute_reply": "2025-08-20T12:22:00.629078Z"
    }
   },
   "outputs": [
    {
     "name": "stdout",
     "output_type": "stream",
     "text": [
      "Reward 1:  1\n"
     ]
    }
   ],
   "source": [
    "# The reward is chosen using numpy.random.choice, so we define the range of rewards\n",
    "# and the associated probability.\n",
    "reward1 = BaseReward(reward=[0, 1], p=[0.2, 0.8], random_state=2222)\n",
    "reward2 = BaseReward(reward=[0, 1], p=[0.5, 0.5], random_state=3333)\n",
    "\n",
    "# This creates the reward dictionary necessary for the environment.\n",
    "reward_locs = {1: reward1, 2: reward2}\n",
    "\n",
    "# The reward class is then callable using:\n",
    "print(\"Reward 1: \", reward1())"
   ]
  },
  {
   "cell_type": "markdown",
   "id": "530141e4",
   "metadata": {},
   "source": [
    "With these two components we can create an environment:"
   ]
  },
  {
   "cell_type": "code",
   "execution_count": 4,
   "id": "dc367d31",
   "metadata": {
    "execution": {
     "iopub.execute_input": "2025-08-20T12:22:00.631491Z",
     "iopub.status.busy": "2025-08-20T12:22:00.631301Z",
     "iopub.status.idle": "2025-08-20T12:22:00.634018Z",
     "shell.execute_reply": "2025-08-20T12:22:00.633518Z"
    }
   },
   "outputs": [],
   "source": [
    "env = BaseEnv(environment_graph=env_graph, reward_locations=reward_locs)"
   ]
  },
  {
   "cell_type": "markdown",
   "id": "9d09db62",
   "metadata": {},
   "source": [
    "There is some plotting functionality, which allows the plotting of the structure."
   ]
  },
  {
   "cell_type": "code",
   "execution_count": 5,
   "id": "8eacf5a2",
   "metadata": {
    "execution": {
     "iopub.execute_input": "2025-08-20T12:22:00.635747Z",
     "iopub.status.busy": "2025-08-20T12:22:00.635554Z",
     "iopub.status.idle": "2025-08-20T12:22:00.880103Z",
     "shell.execute_reply": "2025-08-20T12:22:00.879411Z"
    }
   },
   "outputs": [
    {
     "data": {
      "image/png": "[encoded data removed]",
      "text/plain": [
       "<Figure size 640x480 with 1 Axes>"
      ]
     },
     "metadata": {},
     "output_type": "display_data"
    }
   ],
   "source": [
    "from rewardgym.environments.visualizations import plot_env_graph\n",
    "\n",
    "plot_env_graph(env)"
   ]
  },
  {
   "cell_type": "markdown",
   "id": "4b291bd4",
   "metadata": {},
   "source": [
    "We see here, that the environment has three states and two possible actions."
   ]
  },
  {
   "cell_type": "markdown",
   "id": "64e690c1",
   "metadata": {
    "lines_to_next_cell": 0
   },
   "source": [
    "## Putting the environment into action\n",
    "\n",
    "The API follows the gym/gymnasium structure. An example loop over the environment\n",
    "might look like this:\n",
    "\n"
   ]
  },
  {
   "cell_type": "code",
   "execution_count": 6,
   "id": "3cb96a8e",
   "metadata": {
    "execution": {
     "iopub.execute_input": "2025-08-20T12:22:00.882273Z",
     "iopub.status.busy": "2025-08-20T12:22:00.882021Z",
     "iopub.status.idle": "2025-08-20T12:22:00.889837Z",
     "shell.execute_reply": "2025-08-20T12:22:00.889329Z"
    }
   },
   "outputs": [],
   "source": [
    "import matplotlib.pyplot as plt\n",
    "import numpy as np\n",
    "\n",
    "n_episodes = 100\n",
    "rewards_and_actions = np.zeros((2, n_episodes))  # book keeping of actions and rewards\n",
    "\n",
    "for t in range(n_episodes):\n",
    "    # currently we need to define the agent location at each reset.\n",
    "    obs, info = env.reset(agent_location=0)\n",
    "\n",
    "    done = False\n",
    "\n",
    "    while not done:\n",
    "        # Sample from the action space, the action space is automatically created\n",
    "        # it has the size of the largest number of possible moves.\n",
    "        action = env.action_space.sample()\n",
    "\n",
    "        next_obs, reward, terminated, truncated, info = env.step(action)\n",
    "\n",
    "        # Don't forget to terminate, whence the episode / trial is over\n",
    "        done = terminated or truncated\n",
    "    rewards_and_actions[:, t] = [reward, action]"
   ]
  },
  {
   "cell_type": "markdown",
   "id": "e0c10fa3",
   "metadata": {},
   "source": [
    "As a sanity check, we can calculate the total reward of the agent after each\n",
    "action."
   ]
  },
  {
   "cell_type": "code",
   "execution_count": 7,
   "id": "7f679c8e",
   "metadata": {
    "execution": {
     "iopub.execute_input": "2025-08-20T12:22:00.891600Z",
     "iopub.status.busy": "2025-08-20T12:22:00.891418Z",
     "iopub.status.idle": "2025-08-20T12:22:00.977939Z",
     "shell.execute_reply": "2025-08-20T12:22:00.977274Z"
    }
   },
   "outputs": [
    {
     "data": {
      "text/plain": [
       "[[<matplotlib.axis.XTick at 0x7f5b7db6f3a0>,\n",
       "  <matplotlib.axis.XTick at 0x7f5b7db6ea10>],\n",
       " [Text(0, 0, 'Action 0'), Text(1, 0, 'Action 1')],\n",
       " Text(0.5, 1.0, 'Outcome after each action'),\n",
       " Text(0, 0.5, 'total reward')]"
      ]
     },
     "execution_count": 7,
     "metadata": {},
     "output_type": "execute_result"
    },
    {
     "data": {
      "image/png": "[encoded data removed]",
      "text/plain": [
       "<Figure size 640x480 with 1 Axes>"
      ]
     },
     "metadata": {},
     "output_type": "display_data"
    }
   ],
   "source": [
    "total_rew1 = np.sum(rewards_and_actions[0, rewards_and_actions[1, :] == 0])\n",
    "total_rew2 = np.sum(rewards_and_actions[0, rewards_and_actions[1, :] == 1])\n",
    "\n",
    "fig, ax = plt.subplots()\n",
    "ax.bar(np.arange(2), [total_rew1, total_rew2])\n",
    "ax.set(\n",
    "    xticks=[0, 1],\n",
    "    xticklabels=[\"Action 0\", \"Action 1\"],\n",
    "    title=\"Outcome after each action\",\n",
    "    ylabel=\"total reward\",\n",
    ")"
   ]
  },
  {
   "cell_type": "markdown",
   "id": "4177ff82",
   "metadata": {},
   "source": [
    "## Providing Rendering\n",
    "\n",
    "If you now want a human to play the game you will need to provide some information\n",
    "to allow rendering with ``pygame``.\n",
    "\n",
    "One logic that is used here, is that the environments themselves are Markovian,\n",
    "that is each state has all the information necessary to generate an action.\n",
    "\n",
    "The issue, however, is that most tasks are not necessarily Markovian, as there\n",
    "are fixation periods and other step in between states, actions, and outcomes.\n",
    "\n",
    "Here, we go a middle ground. It is possible to define intermediate steps for\n",
    "the rendering process, but the returned observations of the environment all\n",
    "require an action.\n",
    "\n",
    "I hope this becomes at bit clearer in the next steps.\n",
    "\n",
    "We will use only letters for rendering, to make it more simple, and so that there\n",
    "are no further requirements."
   ]
  },
  {
   "cell_type": "markdown",
   "id": "afa7c0af",
   "metadata": {},
   "source": [
    "We create each step separately, before merging them into the main display dictionary.\n"
   ]
  },
  {
   "cell_type": "code",
   "execution_count": 8,
   "id": "2474c136",
   "metadata": {
    "execution": {
     "iopub.execute_input": "2025-08-20T12:22:00.979811Z",
     "iopub.status.busy": "2025-08-20T12:22:00.979622Z",
     "iopub.status.idle": "2025-08-20T12:22:00.984399Z",
     "shell.execute_reply": "2025-08-20T12:22:00.983824Z"
    }
   },
   "outputs": [],
   "source": [
    "import pygame\n",
    "\n",
    "from rewardgym.pygame_render.stimuli import BaseAction, BaseDisplay, BaseText\n",
    "\n",
    "# State / Step1:\n",
    "# We first want to blank the screen, this can be done with the BaseDisplay class\n",
    "# The class can also be used to show images, but if it's not defined,\n",
    "# it will only flip the screen. The time is in ms.\n",
    "\n",
    "flip_screen = BaseDisplay(image=None, duration=1, name=\"blank\")\n",
    "\n",
    "# Unfortunately, we need to know the screen size in the beginning, if we want\n",
    "# to position text in the center.\n",
    "window_size = 500  # Let's use 500 by 500 px.\n",
    "center_position = (window_size // 2, window_size // 2)\n",
    "# We then define a text, that presents a cross in the center.\n",
    "fixation_cross = BaseText(\"+\", duration=200, textposition=center_position)\n",
    "# Next we want to present the selection, we use a very short duration,\n",
    "# as we present an action afterwards.\n",
    "selection = BaseText(\"A or B\", duration=1, textposition=center_position)\n",
    "# Base action has an infinite length, it waits until an action is ushered.\n",
    "action = BaseAction(action_map={pygame.K_LEFT: 0, pygame.K_RIGHT: 1})\n",
    "\n",
    "# To store the first step and use it in the environment later we create a\n",
    "# dictionary. The nexted dict, with \"human\" as key, indicates that it should be\n",
    "# used for rendering.\n",
    "\n",
    "info_dict = {0: {\"human\": [flip_screen, fixation_cross, selection, action]}}"
   ]
  },
  {
   "cell_type": "code",
   "execution_count": 9,
   "id": "828b4bae",
   "metadata": {
    "execution": {
     "iopub.execute_input": "2025-08-20T12:22:00.986188Z",
     "iopub.status.busy": "2025-08-20T12:22:00.985992Z",
     "iopub.status.idle": "2025-08-20T12:22:00.990219Z",
     "shell.execute_reply": "2025-08-20T12:22:00.989563Z"
    }
   },
   "outputs": [],
   "source": [
    "from rewardgym.pygame_render.task_stims import FormatTextReward\n",
    "\n",
    "# Step 2 and step three are basically the same, so we can define them once\n",
    "# and reuse the code.\n",
    "# In this simple implementation, after a selection, the participant will see\n",
    "# their reward immediately.\n",
    "\n",
    "reward_disp = FormatTextReward(\n",
    "    \"You gain: {0}\", duration=1000, textposition=center_position, target=\"reward\"\n",
    ")\n",
    "\n",
    "earnings_text = FormatTextReward(\n",
    "    \"You have gained: {0}\",\n",
    "    duration=500,\n",
    "    textposition=center_position,\n",
    "    target=\"total_reward\",\n",
    ")\n",
    "# The format texts, use inputs during the loop to update the value according\n",
    "# to some input.\n",
    "# NOTE: These functions are currently a bit messy and will be cleaned up\n",
    "# in future versions of the package.\n",
    "# NOTE: Because the pygame implementation, uses similar displays through out,\n",
    "# there is a helper function ``rewardgym.pygame_render.task_stims.feedback_block``,\n",
    "# that creates the two feedbacks using some default values.\n",
    "\n",
    "info_dict[1] = {\n",
    "    \"human\": [flip_screen, reward_disp, earnings_text]  # Just for good measure\n",
    "}\n",
    "\n",
    "info_dict[2] = {\n",
    "    \"human\": [flip_screen, reward_disp, earnings_text]  # Just for good measure\n",
    "}"
   ]
  },
  {
   "cell_type": "markdown",
   "id": "7469bfec",
   "metadata": {},
   "source": [
    "We can now move this all into a ``RenderEnv`` which allows rendering of the\n",
    "environment."
   ]
  },
  {
   "cell_type": "code",
   "execution_count": 10,
   "id": "6913b2eb",
   "metadata": {
    "execution": {
     "iopub.execute_input": "2025-08-20T12:22:00.991973Z",
     "iopub.status.busy": "2025-08-20T12:22:00.991776Z",
     "iopub.status.idle": "2025-08-20T12:22:01.281081Z",
     "shell.execute_reply": "2025-08-20T12:22:01.280429Z"
    },
    "lines_to_next_cell": 0
   },
   "outputs": [
    {
     "name": "stderr",
     "output_type": "stream",
     "text": [
      "ALSA lib confmisc.c:855:(parse_card) cannot find card '0'\n",
      "ALSA lib conf.c:5204:(_snd_config_evaluate) function snd_func_card_inum returned error: No such file or directory\n",
      "ALSA lib confmisc.c:422:(snd_func_concat) error evaluating strings\n",
      "ALSA lib conf.c:5204:(_snd_config_evaluate) function snd_func_concat returned error: No such file or directory\n",
      "ALSA lib confmisc.c:1342:(snd_func_refer) error evaluating name\n",
      "ALSA lib conf.c:5204:(_snd_config_evaluate) function snd_func_refer returned error: No such file or directory\n",
      "ALSA lib conf.c:5727:(snd_config_expand) Evaluate error: No such file or directory\n",
      "ALSA lib pcm.c:2721:(snd_pcm_open_noupdate) Unknown PCM default\n"
     ]
    }
   ],
   "source": [
    "from rewardgym.environments import RenderEnv\n",
    "\n",
    "env = RenderEnv(\n",
    "    environment_graph=env_graph,\n",
    "    reward_locations=reward_locs,\n",
    "    render_mode=\"pygame\",\n",
    "    info_dict=info_dict,\n",
    ")\n",
    "\n",
    "env.setup_render(window_size=window_size)"
   ]
  },
  {
   "cell_type": "markdown",
   "id": "449d3c2d",
   "metadata": {},
   "source": [
    "And again we can use a simple loop to go through the environment.\n",
    "This time human actions will be stored and applied to the decisions, and a\n",
    "new window is opened for rendering.\n",
    "\n",
    "**NOTE** This might not work well in some environments."
   ]
  },
  {
   "cell_type": "code",
   "execution_count": 11,
   "id": "00b0d0a8",
   "metadata": {
    "execution": {
     "iopub.execute_input": "2025-08-20T12:22:01.283001Z",
     "iopub.status.busy": "2025-08-20T12:22:01.282795Z",
     "iopub.status.idle": "2025-08-20T12:22:01.294576Z",
     "shell.execute_reply": "2025-08-20T12:22:01.293920Z"
    }
   },
   "outputs": [],
   "source": [
    "n_episodes = 0  # Change to a higher number, disabled here for rendering.\n",
    "\n",
    "for episode in range(n_episodes):\n",
    "    obs, info = env.reset(agent_location=0)\n",
    "    done = False\n",
    "    # play one episode\n",
    "    while not done:\n",
    "        action = env.human_action\n",
    "        next_obs, reward, terminated, truncated, info = env.step(action)\n",
    "\n",
    "        done = terminated or truncated\n",
    "        obs = next_obs\n",
    "\n",
    "env.close()"
   ]
  }
 ],
 "metadata": {
  "kernelspec": {
   "display_name": "Python 3",
   "language": "python",
   "name": "python3"
  },
  "language_info": {
   "codemirror_mode": {
    "name": "ipython",
    "version": 3
   },
   "file_extension": ".py",
   "mimetype": "text/x-python",
   "name": "python",
   "nbconvert_exporter": "python",
   "pygments_lexer": "ipython3",
   "version": "3.10.18"
  }
 },
 "nbformat": 4,
 "nbformat_minor": 5
}
